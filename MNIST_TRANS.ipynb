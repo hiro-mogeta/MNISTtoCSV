{
  "nbformat": 4,
  "nbformat_minor": 0,
  "metadata": {
    "colab": {
      "provenance": []
    },
    "kernelspec": {
      "name": "python3",
      "display_name": "Python 3"
    },
    "language_info": {
      "name": "python"
    }
  },
  "cells": [
    {
      "cell_type": "markdown",
      "source": [
        "MNISTをダウンロードしてCSVにします"
      ],
      "metadata": {
        "id": "GXgNxQ0adFhX"
      }
    },
    {
      "cell_type": "code",
      "execution_count": 2,
      "metadata": {
        "id": "g-QxAf97_XBS"
      },
      "outputs": [],
      "source": [
        "import numpy as np\n",
        "import os\n",
        "import gzip\n",
        "\n",
        "# MNISTデータをダウンロードする関数\n",
        "def download_mnist(url, filename):\n",
        "    if not os.path.exists(filename):\n",
        "        from urllib.request import urlretrieve\n",
        "        urlretrieve(url, filename)\n",
        "\n",
        "# MNISTデータをロードする関数\n",
        "def load_mnist(images_path, labels_path):\n",
        "    with gzip.open(labels_path, 'rb') as labels_file:\n",
        "        labels = np.frombuffer(labels_file.read(), dtype=np.uint8, offset=8)\n",
        "    with gzip.open(images_path, 'rb') as images_file:\n",
        "        images = np.frombuffer(images_file.read(), dtype=np.uint8, offset=16).reshape(len(labels), 784)\n",
        "    return images, labels\n",
        "\n",
        "# MNISTデータのダウンロードとロード\n",
        "download_mnist('http://yann.lecun.com/exdb/mnist/train-images-idx3-ubyte.gz', 'train-images.gz')\n",
        "download_mnist('http://yann.lecun.com/exdb/mnist/train-labels-idx1-ubyte.gz', 'train-labels.gz')\n",
        "download_mnist('http://yann.lecun.com/exdb/mnist/t10k-images-idx3-ubyte.gz', 'test-images.gz')\n",
        "download_mnist('http://yann.lecun.com/exdb/mnist/t10k-labels-idx1-ubyte.gz', 'test-labels.gz')\n",
        "train_images, train_labels = load_mnist('train-images.gz', 'train-labels.gz')\n",
        "test_images, test_labels = load_mnist('test-images.gz', 'test-labels.gz')\n",
        "\n",
        "# 訓練用データをCSVファイルに保存\n",
        "with open('train.csv', 'w') as file:\n",
        "    for i in range(len(train_labels)):\n",
        "        row = ','.join([str(train_labels[i])] + [str(pixel) for pixel in train_images[i]])\n",
        "        file.write(row + '\\n')\n",
        "\n",
        "# テスト用データをCSVファイルに保存\n",
        "with open('test.csv', 'w') as file:\n",
        "    for i in range(len(test_labels)):\n",
        "        row = ','.join([str(test_labels[i])] + [str(pixel) for pixel in test_images[i]])\n",
        "        file.write(row + '\\n')\n",
        "\n",
        "# CSVファイルをgzipで圧縮\n",
        "with open('train.csv', 'rb') as file_in, gzip.open('train_csv.gz', 'wb') as file_out:\n",
        "    file_out.writelines(file_in)\n",
        "\n",
        "with open('test.csv', 'rb') as file_in, gzip.open('test_csv.gz', 'wb') as file_out:\n",
        "    file_out.writelines(file_in)\n",
        "\n",
        "# 圧縮前のCSVファイルを削除\n",
        "os.remove('train.csv')\n",
        "os.remove('test.csv')\n"
      ]
    }
  ]
}